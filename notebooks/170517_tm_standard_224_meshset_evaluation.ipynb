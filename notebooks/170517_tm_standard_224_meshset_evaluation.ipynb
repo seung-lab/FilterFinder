{
 "cells": [
  {
   "cell_type": "markdown",
   "metadata": {},
   "source": [
    "# Evaluate effectiveness of FilterFinder  \n",
    "Thomas Macrina  \n",
    "May 17, 2017  \n",
    "\n",
    "Inspecting meshsets for FilterFinder evaluation.  \n",
    "\n",
    "Evaluating on gcloud with instance `alembic-davittest-across`  \n",
    "\n",
    "First batch of meshsets was copied from here:  \n",
    "`gs://image_assembly/experiments/davit_piritest/meshset_inspected/standard_224`  "
   ]
  },
  {
   "cell_type": "code",
   "execution_count": 1,
   "metadata": {
    "collapsed": false
   },
   "outputs": [
    {
     "name": "stderr",
     "output_type": "stream",
     "text": [
      "WARNING: could not import LinAlg.A_ldiv_B into DSS\n",
      "WARNING: Union(args...) is deprecated, use Union{args...} instead.\n",
      " in depwarn at deprecated.jl:73\n",
      " in call at deprecated.jl:50\n",
      " in anonymous at no file\n",
      " in include at ./boot.jl:261\n",
      " in include_from_node1 at ./loading.jl:320\n",
      " in include at ./boot.jl:261\n",
      " in include_from_node1 at ./loading.jl:320\n",
      " in include at ./boot.jl:261\n",
      " in include_from_node1 at ./loading.jl:320\n",
      " in require at ./loading.jl:259\n",
      " in include at ./boot.jl:261\n",
      " in include_from_node1 at ./loading.jl:320\n",
      " in require at ./loading.jl:259\n",
      " in include_string at loading.jl:282\n",
      " in execute_request at /home/ubuntu/.julia/v0.4/IJulia/src/execute_request.jl:164\n",
      " in eventloop at /home/ubuntu/.julia/v0.4/IJulia/src/IJulia.jl:138\n",
      " in anonymous at task.jl:447\n",
      "while loading /home/ubuntu/.julia/v0.4/MKLSparse/src/./DSS/dss_generator.jl, in expression starting on line 3\n",
      "WARNING: Union(args...) is deprecated, use Union{args...} instead.\n",
      " in depwarn at deprecated.jl:73\n",
      " in call at deprecated.jl:50\n",
      " in anonymous at no file\n",
      " in include at ./boot.jl:261\n",
      " in include_from_node1 at ./loading.jl:320\n",
      " in include at ./boot.jl:261\n",
      " in include_from_node1 at ./loading.jl:320\n",
      " in include at ./boot.jl:261\n",
      " in include_from_node1 at ./loading.jl:320\n",
      " in require at ./loading.jl:259\n",
      " in include at ./boot.jl:261\n",
      " in include_from_node1 at ./loading.jl:320\n",
      " in require at ./loading.jl:259\n",
      " in include_string at loading.jl:282\n",
      " in execute_request at /home/ubuntu/.julia/v0.4/IJulia/src/execute_request.jl:164\n",
      " in eventloop at /home/ubuntu/.julia/v0.4/IJulia/src/IJulia.jl:138\n",
      " in anonymous at task.jl:447\n",
      "while loading /home/ubuntu/.julia/v0.4/MKLSparse/src/./DSS/dss_generator.jl, in expression starting on line 3\n",
      "WARNING: using Datasource.get in module Main conflicts with an existing identifier.\n",
      "WARNING: requiring \"Alembic\" in module \"Main\" did not define a corresponding module.\n"
     ]
    }
   ],
   "source": [
    "using Alembic"
   ]
  },
  {
   "cell_type": "markdown",
   "metadata": {},
   "source": [
    "1,1002-1,1096_aligned.jls  \n",
    "1,2002-1,2096_aligned.jls  \n",
    "1,2-1,96_aligned.jls  \n",
    "1,3002-1,3096_aligned.jls\n",
    "\n",
    "0-thousands: original  \n",
    "1-thousands: net trained on adj  \n",
    "2-thousands: net trained on across  \n",
    "3-thousands: bandpass"
   ]
  },
  {
   "cell_type": "code",
   "execution_count": 2,
   "metadata": {
    "collapsed": false
   },
   "outputs": [
    {
     "name": "stdout",
     "output_type": "stream",
     "text": [
      "Loading data from /home/ubuntu/davit/standard_224_annotated/1,3002-1,3096_aligned.jls\n",
      "Loaded MeshSet from /home/ubuntu/davit/standard_224_annotated/1,3002-1,3096_aligned.jls\n",
      "Loading data from /home/ubuntu/davit/standard_224_annotated/1,2-1,96_aligned.jls\n",
      "Loaded MeshSet from /home/ubuntu/davit/standard_224_annotated/1,2-1,96_aligned.jls\n",
      "Loading data from /home/ubuntu/davit/standard_224_annotated/1,1002-1,1096_aligned.jls\n",
      "Loaded MeshSet from /home/ubuntu/davit/standard_224_annotated/1,1002-1,1096_aligned.jls\n",
      "Loading data from /home/ubuntu/davit/standard_224_annotated/1,2002-1,2096_aligned.jls\n",
      "Loaded MeshSet from /home/ubuntu/davit/standard_224_annotated/1,2002-1,2096_aligned.jls\n"
     ]
    }
   ],
   "source": [
    "ms_dir = joinpath(homedir(), \"davit\", \"standard_224_annotated\")\n",
    "ms_filenames = Dict(\n",
    "    \"original\" => \"1,2-1,96_aligned.jls\",\n",
    "    \"net_adj\" => \"1,1002-1,1096_aligned.jls\",\n",
    "    \"net_across\" => \"1,2002-1,2096_aligned.jls\",\n",
    "    \"bandpass\" => \"1,3002-1,3096_aligned.jls\")\n",
    "ms_dict = [k => load(joinpath(ms_dir, v)) for (k,v) in ms_filenames];"
   ]
  },
  {
   "cell_type": "markdown",
   "metadata": {},
   "source": [
    "### Compare meshsets  \n",
    "A good kernel should create _more good matches_ and make it _easier to remove bad matches_.  \n",
    "\n",
    "_More good matches_ means:  \n",
    "1. a kernel finds good correspondences in locations where another kernel might not be able to find any.  \n",
    "1. there is better coverage of matches (a more consistent density).   \n",
    "\n",
    "_Easier to remove bad matches_ means:   \n",
    "1. there are fewer bad matches overall.\n",
    "1. we can filter out bad matches with an easily tuned filter (less need for manual intervention).  \n",
    "\n",
    "To start evaluating these two criteria, we will inspect the f-score between pairs of kernels, as well as number of matches away from a perfect set of correspondences."
   ]
  },
  {
   "cell_type": "code",
   "execution_count": 3,
   "metadata": {
    "collapsed": false
   },
   "outputs": [
    {
     "data": {
      "text/plain": [
       "Dict{ASCIIString,Any} with 7 entries:\n",
       "  \"mesh\"     => Dict(\"mesh_length\"=>400)\n",
       "  \"registry\" => Dict(\"global_offsets\"=>true)\n",
       "  \"solve\"    => Dict{ASCIIString,Any}(\"ftol_cg\"=>1.0e-8,\"use_conjugate_gradient…\n",
       "  \"filter\"   => Dict{Any,Any}()\n",
       "  \"render\"   => Dict{Any,Any}()\n",
       "  \"match\"    => Dict{ASCIIString,Any}(\"depth\"=>1,\"block_r\"=>336,\"bandpass_sigma…\n",
       "  \"review\"   => Dict{ASCIIString,Any}(\"too_few_corresps\"=>(:count_correspondenc…"
      ]
     },
     "execution_count": 3,
     "metadata": {},
     "output_type": "execute_result"
    }
   ],
   "source": [
    "ms_dict[\"original\"].matches[1].properties[\"params\"]"
   ]
  },
  {
   "cell_type": "code",
   "execution_count": 4,
   "metadata": {
    "collapsed": false
   },
   "outputs": [],
   "source": [
    "p1 = get_properties(ms_dict[\"original\"].matches[1], \"src_range\");\n",
    "p2 = get_properties(ms_dict[\"net_adj\"].matches[1], \"src_range\");"
   ]
  },
  {
   "cell_type": "code",
   "execution_count": 5,
   "metadata": {
    "collapsed": false
   },
   "outputs": [
    {
     "data": {
      "text/plain": [
       "true"
      ]
     },
     "execution_count": 5,
     "metadata": {},
     "output_type": "execute_result"
    }
   ],
   "source": [
    "p12 = union(Set(p1), Set(p2))\n",
    "p12 == Set(p1)"
   ]
  },
  {
   "cell_type": "code",
   "execution_count": 18,
   "metadata": {
    "collapsed": false
   },
   "outputs": [
    {
     "data": {
      "text/plain": [
       "compute_f1 (generic function with 2 methods)"
      ]
     },
     "execution_count": 18,
     "metadata": {},
     "output_type": "execute_result"
    }
   ],
   "source": [
    "\"\"\"\n",
    "Count TP, FP, FN between matchA & matchB (ground truth: matchA)\n",
    "\"\"\"\n",
    "function compare_matches(matchA, matchB)\n",
    "    pA = Set(get_filtered_properties(matchA, \"src_range\"));\n",
    "    pB = Set(get_filtered_properties(matchB, \"src_range\"));\n",
    "    tp = length(intersect(pA, pB))\n",
    "    fn = length(setdiff(pA, pB))\n",
    "    fp = length(setdiff(pB, pA))\n",
    "    return [tp, fn, fp]\n",
    "end\n",
    "\n",
    "\"\"\"\n",
    "Compute F1-score\n",
    "\"\"\"\n",
    "function compute_f1(tp, fn, fp)\n",
    "    return 2*tp / (2*tp + fn + fp)\n",
    "end\n",
    "\n",
    "\"\"\"\n",
    "Compute F1-score from table of tp, fn, fp\n",
    "\"\"\"\n",
    "function compute_f1(pn)\n",
    "    f1_array = zeros(size(pn,1))\n",
    "    for i in 1:size(pn,1)\n",
    "        f1_array[i] = compute_f1(pn[i,:]...)\n",
    "    end\n",
    "    f1 = compute_f1(sum(pn,1)[:]...)\n",
    "    return f1, f1_array\n",
    "end"
   ]
  },
  {
   "cell_type": "code",
   "execution_count": 8,
   "metadata": {
    "collapsed": true
   },
   "outputs": [],
   "source": [
    "comparisons = [(\"original\", \"net_adj\"),\n",
    "                (\"original\", \"net_across\"),\n",
    "                (\"original\", \"bandpass\"),\n",
    "                (\"net_adj\", \"net_across\"),\n",
    "                (\"net_adj\", \"bandpass\"),\n",
    "                (\"net_across\", \"bandpass\")];"
   ]
  },
  {
   "cell_type": "code",
   "execution_count": 9,
   "metadata": {
    "collapsed": false
   },
   "outputs": [
    {
     "data": {
      "text/plain": [
       "compare_meshsets (generic function with 1 method)"
      ]
     },
     "execution_count": 9,
     "metadata": {},
     "output_type": "execute_result"
    }
   ],
   "source": [
    "\"\"\"\n",
    "Count TP, FP, FN between all corresponding matches (ground truth: msA)\n",
    "\"\"\"\n",
    "function compare_meshsets(msA, msB)\n",
    "    pn = zeros(Int64, length(msA.matches), 3)\n",
    "    for (k, (matchA, matchB)) in enumerate(zip(msA.matches, msB.matches))\n",
    "        pn[k,:] = [compare_matches(matchA, matchB)...]\n",
    "    end\n",
    "    return pn\n",
    "end"
   ]
  },
  {
   "cell_type": "code",
   "execution_count": 19,
   "metadata": {
    "collapsed": true
   },
   "outputs": [],
   "source": [
    "pn_results = Dict()\n",
    "for (nameA, nameB) in comparisons\n",
    "    pn = compare_meshsets(ms_dict[nameA], ms_dict[nameB])\n",
    "    pn_results[(nameA, nameB)] = pn\n",
    "end"
   ]
  },
  {
   "cell_type": "code",
   "execution_count": 20,
   "metadata": {
    "collapsed": true
   },
   "outputs": [],
   "source": [
    "f1_results = Dict()\n",
    "for (name_pair, pn) in pn_results\n",
    "    f1_results[name_pair] = compute_f1(pn)\n",
    "end"
   ]
  },
  {
   "cell_type": "markdown",
   "metadata": {},
   "source": [
    "Matches where another kernel had matches where the net did not"
   ]
  },
  {
   "cell_type": "code",
   "execution_count": 34,
   "metadata": {
    "collapsed": false
   },
   "outputs": [
    {
     "data": {
      "text/plain": [
       "2x3 Array{Int64,2}:\n",
       " 1573  0  2\n",
       " 1461  0  2"
      ]
     },
     "execution_count": 34,
     "metadata": {},
     "output_type": "execute_result"
    }
   ],
   "source": [
    "pn = pn_results[\"net_adj\",\"bandpass\"]\n",
    "collect(1:size(pn,1))[pn[:,3] .> 1]\n",
    "pn[pn[:,3] .> 1,:]"
   ]
  },
  {
   "cell_type": "code",
   "execution_count": 35,
   "metadata": {
    "collapsed": false
   },
   "outputs": [
    {
     "data": {
      "text/plain": [
       "2x3 Array{Int64,2}:\n",
       " 1506  2  4\n",
       " 1566  2  7"
      ]
     },
     "execution_count": 35,
     "metadata": {},
     "output_type": "execute_result"
    }
   ],
   "source": [
    "pn = pn_results[\"original\", \"net_adj\"]\n",
    "collect(1:size(pn,1))[pn[:,2] .> 1]\n",
    "pn[pn[:,2] .> 1,:]"
   ]
  },
  {
   "cell_type": "code",
   "execution_count": 38,
   "metadata": {
    "collapsed": false
   },
   "outputs": [
    {
     "data": {
      "text/plain": [
       "list_discrepancies (generic function with 1 method)"
      ]
     },
     "execution_count": 38,
     "metadata": {},
     "output_type": "execute_result"
    }
   ],
   "source": [
    "function list_discrepancies(matchA, matchB)\n",
    "    pA = Set(get_filtered_properties(matchA, \"src_range\"));\n",
    "    pB = Set(get_filtered_properties(matchB, \"src_range\"));\n",
    "    fn = setdiff(pA, pB)\n",
    "    fp = setdiff(pB, pA)\n",
    "    return fn, fp\n",
    "end"
   ]
  },
  {
   "cell_type": "code",
   "execution_count": 72,
   "metadata": {
    "collapsed": false
   },
   "outputs": [
    {
     "data": {
      "text/plain": [
       "Set(Any[(14613:15001,1:437),(8724:9396,11965:12637)])"
      ]
     },
     "execution_count": 72,
     "metadata": {},
     "output_type": "execute_result"
    }
   ],
   "source": [
    "_, d = list_discrepancies(ms_dict[\"net_adj\"].matches[67], ms_dict[\"bandpass\"].matches[67])\n",
    "d"
   ]
  },
  {
   "cell_type": "code",
   "execution_count": 51,
   "metadata": {
    "collapsed": false
   },
   "outputs": [],
   "source": [
    "ms_names = [\"original\", \"net_adj\", \"net_across\", \"bandpass\"]\n",
    "pn_table = zeros(Int64, length(ms_names), length(ms_names), 3)\n",
    "f1_table = zeros(length(ms_names), length(ms_names))\n",
    "for (i, nameA) in enumerate(ms_names)\n",
    "    for (j, nameB) in enumerate(ms_names)\n",
    "        if (nameA, nameB) in keys(f1_results)\n",
    "            pn_table[i,j,:] = sum(pn_results[(nameA, nameB)],1)\n",
    "            f1_table[i,j] = f1_results[(nameA, nameB)][1]\n",
    "        end\n",
    "    end\n",
    "end"
   ]
  },
  {
   "cell_type": "code",
   "execution_count": 63,
   "metadata": {
    "collapsed": false
   },
   "outputs": [
    {
     "name": "stdout",
     "output_type": "stream",
     "text": [
      "ASCIIString[\"original\",\"net_adj\",\"bandpass\"]\n",
      "tp\n",
      "[0 143672 143657\n",
      " 0 0 144342\n",
      " 0 0 0]\n",
      "fn\n",
      "[0 12 27\n",
      " 0 0 94\n",
      " 0 0 0]\n",
      "fp\n",
      "[0 764 702\n",
      " 0 0 17\n",
      " 0 0 0]\n",
      "f1\n",
      "[0.0 0.9973 0.9975\n",
      " 0.0 0.0 0.9996\n",
      " 0.0 0.0 0.0]\n"
     ]
    }
   ],
   "source": [
    "s = collect([1,2,4])\n",
    "println(ms_names[s])\n",
    "for (k, t) in enumerate([\"tp\", \"fn\", \"fp\"])\n",
    "    println(t)\n",
    "    println(pn_table[s,s,k])\n",
    "end\n",
    "println(\"f1\")\n",
    "println(round(f1_table[s,s], 4))"
   ]
  },
  {
   "cell_type": "code",
   "execution_count": 73,
   "metadata": {
    "collapsed": false
   },
   "outputs": [
    {
     "data": {
      "text/plain": [
       "count_errors (generic function with 1 method)"
      ]
     },
     "execution_count": 73,
     "metadata": {},
     "output_type": "execute_result"
    }
   ],
   "source": [
    "function count_errors(ms, match)\n",
    "    src_index = match.src_index\n",
    "    mesh = get_mesh(ms, match.src_index)\n",
    "    attempted_matches = length(mesh.src_nodes)\n",
    "    possible_matches = length(get_properties(match, \"src_range\"))\n",
    "    good_matches = length(get_filtered_properties(match, \"src_range\"))\n",
    "    return [attempted_matches, possible_matches, good_matches]\n",
    "end"
   ]
  },
  {
   "cell_type": "code",
   "execution_count": 74,
   "metadata": {
    "collapsed": false
   },
   "outputs": [],
   "source": [
    "error_results = Dict()\n",
    "for (name, ms) in ms_dict\n",
    "    error_results[name] = zeros(Int64, 3)\n",
    "    for match in ms.matches\n",
    "        error_results[name] += count_errors(ms, match)\n",
    "    end\n",
    "end"
   ]
  },
  {
   "cell_type": "code",
   "execution_count": 75,
   "metadata": {
    "collapsed": false
   },
   "outputs": [
    {
     "data": {
      "text/plain": [
       "Dict{Any,Any} with 4 entries:\n",
       "  \"bandpass\"   => [170798,144500,144359]\n",
       "  \"original\"   => [170798,144500,143684]\n",
       "  \"net_adj\"    => [170798,144539,144436]\n",
       "  \"net_across\" => [163530,138302,138105]"
      ]
     },
     "execution_count": 75,
     "metadata": {},
     "output_type": "execute_result"
    }
   ],
   "source": [
    "error_results"
   ]
  },
  {
   "cell_type": "code",
   "execution_count": 79,
   "metadata": {
    "collapsed": false
   },
   "outputs": [
    {
     "name": "stdout",
     "output_type": "stream",
     "text": [
      "bandpass \t 141\n",
      "original \t 816\n",
      "net_adj \t 64\n",
      "net_across \t 6395\n"
     ]
    }
   ],
   "source": [
    "for (k,v) in error_results\n",
    "    println(\"$k \\t $(144500 - v[3])\") # hardcode at 144500, because the net kernel created areas that it could match\n",
    "end"
   ]
  },
  {
   "cell_type": "code",
   "execution_count": 90,
   "metadata": {
    "collapsed": false
   },
   "outputs": [
    {
     "data": {
      "text/plain": [
       "Dict{Int64,Any} with 3 entries:\n",
       "  10 => 0.15713293413196533\n",
       "  5  => 0.1131847568745201\n",
       "  15 => 0.17025758892888013"
      ]
     },
     "execution_count": 90,
     "metadata": {},
     "output_type": "execute_result"
    }
   ],
   "source": [
    "ms_dict[\"original\"].matches[1].correspondence_properties[1][\"xcorr\"][\"difference\"]"
   ]
  },
  {
   "cell_type": "code",
   "execution_count": null,
   "metadata": {
    "collapsed": true
   },
   "outputs": [],
   "source": []
  }
 ],
 "metadata": {
  "kernelspec": {
   "display_name": "Julia 0.4.6",
   "language": "julia",
   "name": "julia-0.4"
  },
  "language_info": {
   "file_extension": ".jl",
   "mimetype": "application/julia",
   "name": "julia",
   "version": "0.4.6"
  }
 },
 "nbformat": 4,
 "nbformat_minor": 2
}
