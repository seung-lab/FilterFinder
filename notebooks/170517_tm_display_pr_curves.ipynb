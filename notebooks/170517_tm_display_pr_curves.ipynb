{
 "cells": [
  {
   "cell_type": "markdown",
   "metadata": {},
   "source": [
    "This notebook picks up where the other left off, because it's on a local workstation with PyPlot."
   ]
  },
  {
   "cell_type": "code",
   "execution_count": 5,
   "metadata": {
    "collapsed": true
   },
   "outputs": [],
   "source": [
    "using PyPlot\n",
    "plt[:style][:use](\"ggplot\")"
   ]
  },
  {
   "cell_type": "code",
   "execution_count": 4,
   "metadata": {
    "collapsed": false
   },
   "outputs": [],
   "source": [
    "exp_params = Dict()\n",
    "dir = joinpath(homedir(), \"seungmount/research/Alembic/datasets/davit_piritest\")\n",
    "exp_dirs = [\"standard_224\", \"standard_160\", \"across_224\", \"across_160\"]\n",
    "ms_names = [\"original\", \"net_adj\", \"net_across\", \"bandpass\"]\n",
    "for exp in exp_dirs\n",
    "    exp_params[exp] = Dict()\n",
    "    for ms in ms_names\n",
    "        fn = join([exp, ms], \"_\")\n",
    "        exp_params[exp][ms] = readdlm(joinpath(homedir(), dir, string(fn, \"_params.csv\")))\n",
    "    end\n",
    "end"
   ]
  },
  {
   "cell_type": "markdown",
   "metadata": {},
   "source": [
    "        filtered = ones(m)\n",
    "        filtered[collect(get_rejected_indices(match))] = 0\n",
    "        dist = get_properties(match, \"norm\")\n",
    "        r_max = get_properties(match, \"r_max\")\n",
    "        sigma = get_properties(match, 0.75)\n",
    "        r_delta = get_properties(match, 10)\n",
    "        params = hcat(filtered, dist, r_max, sigma, r_delta)"
   ]
  },
  {
   "cell_type": "code",
   "execution_count": 6,
   "metadata": {
    "collapsed": false
   },
   "outputs": [
    {
     "data": {
      "text/plain": [
       "Dict{Any,Any} with 4 entries:\n",
       "  \"across_160\"   => Dict{Any,Any}(Pair{Any,Any}(\"bandpass\",[1.0 40.353 … 6.4590…\n",
       "  \"across_224\"   => Dict{Any,Any}(Pair{Any,Any}(\"bandpass\",[1.0 37.1512 … 8.676…\n",
       "  \"standard_160\" => Dict{Any,Any}(Pair{Any,Any}(\"bandpass\",[1.0 16.5007 … 2.596…\n",
       "  \"standard_224\" => Dict{Any,Any}(Pair{Any,Any}(\"bandpass\",[1.0 16.543 … 2.4200…"
      ]
     },
     "execution_count": 6,
     "metadata": {},
     "output_type": "execute_result"
    }
   ],
   "source": [
    "exp_params"
   ]
  },
  {
   "cell_type": "code",
   "execution_count": 7,
   "metadata": {
    "collapsed": false
   },
   "outputs": [
    {
     "data": {
      "text/plain": [
       "Dict{Any,Any} with 4 entries:\n",
       "  \"bandpass\"   => [1.0 16.543 … 2.42008 0.156665; 1.0 16.5923 … 2.46526 0.23957…\n",
       "  \"original\"   => [1.0 16.5949 … 3.30224 0.157133; 1.0 16.6178 … 3.32499 0.2563…\n",
       "  \"net_adj\"    => [1.0 17.1376 … 7.1877 0.435392; 1.0 17.1393 … 7.52087 0.56422…\n",
       "  \"net_across\" => [1.0 16.6307 … 6.39829 0.399027; 1.0 17.1251 … 6.63302 0.5563…"
      ]
     },
     "execution_count": 7,
     "metadata": {},
     "output_type": "execute_result"
    }
   ],
   "source": [
    "standard_224 = exp_params[\"standard_224\"]"
   ]
  },
  {
   "cell_type": "code",
   "execution_count": 16,
   "metadata": {
    "collapsed": false
   },
   "outputs": [
    {
     "data": {
      "image/png": "[encoded data removed]",
      "text/plain": [
       "PyPlot.Figure(PyObject <matplotlib.figure.Figure object at 0x7f0f0b335e90>)"
      ]
     },
     "metadata": {},
     "output_type": "display_data"
    }
   ],
   "source": [
    "s224o = standard_224[\"original\"]\n",
    "plt[:hist](s224o[s224o[:,1] .== 1, 2], bins=10, color=\"g\", alpha=0.3)\n",
    "plt[:hist](s224o[s224o[:,1] .== 0, 2], bins=10, color=\"r\", alpha=0.3)\n",
    "ax = gca()\n",
    "ax[:set_yscale](\"log\")"
   ]
  },
  {
   "cell_type": "code",
   "execution_count": null,
   "metadata": {
    "collapsed": true
   },
   "outputs": [],
   "source": [
    "function"
   ]
  }
 ],
 "metadata": {
  "kernelspec": {
   "display_name": "Julia 0.5.0",
   "language": "julia",
   "name": "julia-0.5"
  },
  "language_info": {
   "file_extension": ".jl",
   "mimetype": "application/julia",
   "name": "julia",
   "version": "0.5.0"
  }
 },
 "nbformat": 4,
 "nbformat_minor": 1
}
