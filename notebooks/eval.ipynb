{
 "cells": [
  {
   "cell_type": "markdown",
   "metadata": {},
   "source": [
    "# Evaluation of Filter Finder\n",
    "\n",
    "Setup correct path and import required modules"
   ]
  },
  {
   "cell_type": "code",
   "execution_count": 23,
   "metadata": {
    "collapsed": false
   },
   "outputs": [],
   "source": [
    "import os,sys,inspect\n",
    "currentdir = os.path.dirname(os.path.abspath(inspect.getfile(inspect.currentframe())))\n",
    "parentdir = os.path.dirname(currentdir)\n",
    "sys.path.insert(0,parentdir) "
   ]
  },
  {
   "cell_type": "code",
   "execution_count": 32,
   "metadata": {
    "collapsed": false
   },
   "outputs": [],
   "source": [
    "import src.model as models\n",
    "import src.data as d\n",
    "import src.metrics as metrics\n",
    "import src.training as training\n",
    "import src.loss as loss\n",
    "import src.visual as viz\n",
    "import hyperparams"
   ]
  },
  {
   "cell_type": "markdown",
   "metadata": {
    "collapsed": true
   },
   "source": [
    "### Data\n",
    "\n",
    "Load hyperparams and data module"
   ]
  },
  {
   "cell_type": "code",
   "execution_count": 33,
   "metadata": {
    "collapsed": true
   },
   "outputs": [],
   "source": [
    "hparams = hyperparams.create_hparams()\n",
    "data = d.Data(hparams)"
   ]
  },
  {
   "cell_type": "code",
   "execution_count": 36,
   "metadata": {
    "collapsed": true
   },
   "outputs": [],
   "source": [
    "pathset = [ (120,9900, 11000), (20, 9900, 11000),\n",
    "            (60, 16000, 17000),(70, 16000, 17000),\n",
    "            (400, 8500, 27000),(400, 7000, 27000),\n",
    "            (300, 7000, 21500),(151, 4500, 5000),\n",
    "            (51, 18000, 9500), (52, 18000, 7500),\n",
    "            (55, 18000, 7500), (60, 18100, 8400)]"
   ]
  },
  {
   "cell_type": "markdown",
   "metadata": {
    "collapsed": true
   },
   "source": [
    "### Restore Model"
   ]
  },
  {
   "cell_type": "code",
   "execution_count": 34,
   "metadata": {
    "collapsed": false
   },
   "outputs": [
    {
     "name": "stdout",
     "output_type": "stream",
     "text": [
      "INFO:tensorflow:Summary name /search_space is illegal; using search_space instead.\n",
      "INFO:tensorflow:Summary name /template is illegal; using template instead.\n"
     ]
    }
   ],
   "source": [
    "model = models.create_model(hparams, data,train= False)"
   ]
  },
  {
   "cell_type": "code",
   "execution_count": 35,
   "metadata": {
    "collapsed": false
   },
   "outputs": [],
   "source": [
    "ckpt = tf.train.get_checkpoint_state(hparams.model_dir)\n",
    "if ckpt and ckpt.model_checkpoint_path:\n",
    "    saver.restore(model.sess, ckpt.model_checkpoint_path)"
   ]
  },
  {
   "cell_type": "markdown",
   "metadata": {
    "collapsed": true
   },
   "source": [
    "### Run evaluation"
   ]
  },
  {
   "cell_type": "code",
   "execution_count": null,
   "metadata": {
    "collapsed": false
   },
   "outputs": [],
   "source": [
    "s, t = data.getBatch(hparams, pathset)\n",
    "model_run =[model.l,\n",
    "            model.p_max,\n",
    "            model.p_max_2\n",
    "            model.p\n",
    "            model.source_shape\n",
    "            model.template_shape\n",
    "            model.kernel_conv[-1]]\n",
    "\n",
    "feed_dict ={model.image: s, \n",
    "            model.template: t, \n",
    "            model.dropout: 1}"
   ]
  },
  {
   "cell_type": "code",
   "execution_count": null,
   "metadata": {
    "collapsed": true
   },
   "outputs": [],
   "source": [
    "args = model.sess.run(model_run,feed_dict=feed_dict)"
   ]
  },
  {
   "cell_type": "code",
   "execution_count": null,
   "metadata": {
    "collapsed": true
   },
   "outputs": [],
   "source": [
    "viz.xcsurface(args[4,0])\n",
    "viz.show(s[0])"
   ]
  }
 ],
 "metadata": {
  "kernelspec": {
   "display_name": "Python 2",
   "language": "python",
   "name": "python2"
  },
  "language_info": {
   "codemirror_mode": {
    "name": "ipython",
    "version": 2
   },
   "file_extension": ".py",
   "mimetype": "text/x-python",
   "name": "python",
   "nbconvert_exporter": "python",
   "pygments_lexer": "ipython2",
   "version": "2.7.6"
  }
 },
 "nbformat": 4,
 "nbformat_minor": 2
}
